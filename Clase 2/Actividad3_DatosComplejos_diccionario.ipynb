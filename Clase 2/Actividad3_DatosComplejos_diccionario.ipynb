{
 "cells": [
  {
   "cell_type": "markdown",
   "metadata": {},
   "source": [
    "1. Crear un diccionario que contenga nombre, edad y carrera de un alumno y mostrar el diccionario completo."
   ]
  },
  {
   "cell_type": "code",
   "execution_count": 11,
   "metadata": {},
   "outputs": [],
   "source": [
    "alumno = {\n",
    "    \"nombre\": \"Diego\",\n",
    "    \"edad\": 33,\n",
    "    \"carrera\": \"Ciencia de Datos e IA\"\n",
    "    }"
   ]
  },
  {
   "cell_type": "code",
   "execution_count": 12,
   "metadata": {},
   "outputs": [
    {
     "name": "stdout",
     "output_type": "stream",
     "text": [
      "Diccionario completo: {'nombre': 'Diego', 'edad': 33, 'carrera': 'Ciencia de Datos e IA'}\n"
     ]
    }
   ],
   "source": [
    "print(\"Diccionario completo:\", alumno)"
   ]
  },
  {
   "cell_type": "markdown",
   "metadata": {},
   "source": [
    "2. Utilizar el método get para mostrar el valor de la clave nombre."
   ]
  },
  {
   "cell_type": "code",
   "execution_count": 13,
   "metadata": {},
   "outputs": [],
   "source": [
    "nombre = alumno.get(\"nombre\")"
   ]
  },
  {
   "cell_type": "code",
   "execution_count": 14,
   "metadata": {},
   "outputs": [
    {
     "name": "stdout",
     "output_type": "stream",
     "text": [
      "Nombre del alumno: Diego\n"
     ]
    }
   ],
   "source": [
    "print(\"Nombre del alumno:\", nombre)"
   ]
  },
  {
   "cell_type": "markdown",
   "metadata": {},
   "source": [
    "3. Cambiar la edad del alumno y mostrar el diccionario completo."
   ]
  },
  {
   "cell_type": "code",
   "execution_count": 15,
   "metadata": {},
   "outputs": [],
   "source": [
    "alumno[\"edad\"] = 34"
   ]
  },
  {
   "cell_type": "code",
   "execution_count": 16,
   "metadata": {},
   "outputs": [
    {
     "name": "stdout",
     "output_type": "stream",
     "text": [
      "Diccionario después de cambiar la edad: {'nombre': 'Diego', 'edad': 34, 'carrera': 'Ciencia de Datos e IA'}\n"
     ]
    }
   ],
   "source": [
    "print(\"Diccionario después de cambiar la edad:\", alumno)"
   ]
  },
  {
   "cell_type": "markdown",
   "metadata": {},
   "source": [
    "4. Agregar un par clave-valor que contenga el sexo del alumno. Mostrar el diccionario completo."
   ]
  },
  {
   "cell_type": "code",
   "execution_count": 17,
   "metadata": {},
   "outputs": [],
   "source": [
    "alumno[\"sexo\"] = \"Masculino\""
   ]
  },
  {
   "cell_type": "code",
   "execution_count": 18,
   "metadata": {},
   "outputs": [
    {
     "name": "stdout",
     "output_type": "stream",
     "text": [
      "Diccionario después de agregar el sexo: {'nombre': 'Diego', 'edad': 34, 'carrera': 'Ciencia de Datos e IA', 'sexo': 'Masculino'}\n"
     ]
    }
   ],
   "source": [
    "print(\"Diccionario después de agregar el sexo:\", alumno)"
   ]
  },
  {
   "cell_type": "markdown",
   "metadata": {},
   "source": [
    "5. Usar el método pop() para remover la edad del alumno. Mostrar el diccionario completo."
   ]
  },
  {
   "cell_type": "code",
   "execution_count": 19,
   "metadata": {},
   "outputs": [
    {
     "data": {
      "text/plain": [
       "34"
      ]
     },
     "execution_count": 19,
     "metadata": {},
     "output_type": "execute_result"
    }
   ],
   "source": [
    "alumno.pop(\"edad\")"
   ]
  },
  {
   "cell_type": "code",
   "execution_count": 20,
   "metadata": {},
   "outputs": [
    {
     "name": "stdout",
     "output_type": "stream",
     "text": [
      "Diccionario después de remover la edad: {'nombre': 'Diego', 'carrera': 'Ciencia de Datos e IA', 'sexo': 'Masculino'}\n"
     ]
    }
   ],
   "source": [
    "print(\"Diccionario después de remover la edad:\", alumno)"
   ]
  },
  {
   "cell_type": "markdown",
   "metadata": {},
   "source": [
    "6. Crear un diccionario que contenga las notas de un alumno en tres materias."
   ]
  },
  {
   "cell_type": "code",
   "execution_count": 21,
   "metadata": {},
   "outputs": [],
   "source": [
    "notas = {\n",
    "    \"Programación II\": 8,\n",
    "    \"Ciencia de Datos\": 9,\n",
    "    \"Programación I\": 8\n",
    "}"
   ]
  },
  {
   "cell_type": "markdown",
   "metadata": {},
   "source": [
    "7. Mostrar todos los ítems del diccionario de notas."
   ]
  },
  {
   "cell_type": "code",
   "execution_count": 22,
   "metadata": {},
   "outputs": [
    {
     "name": "stdout",
     "output_type": "stream",
     "text": [
      "Ítems del diccionario de notas: dict_items([('Programación II', 8), ('Ciencia de Datos', 9), ('Programación I', 8)])\n"
     ]
    }
   ],
   "source": [
    "print(\"Ítems del diccionario de notas:\", notas.items())"
   ]
  },
  {
   "cell_type": "markdown",
   "metadata": {},
   "source": [
    "8. Crear un nuevo diccionario que sea una copia del diccionario de notas del alumno. Mostrar los datos del nuevo diccionario."
   ]
  },
  {
   "cell_type": "code",
   "execution_count": 23,
   "metadata": {},
   "outputs": [],
   "source": [
    "notas_copia = notas.copy()"
   ]
  },
  {
   "cell_type": "code",
   "execution_count": 24,
   "metadata": {},
   "outputs": [
    {
     "name": "stdout",
     "output_type": "stream",
     "text": [
      "Copia del diccionario de notas: {'Programación II': 8, 'Ciencia de Datos': 9, 'Programación I': 8}\n"
     ]
    }
   ],
   "source": [
    "print(\"Copia del diccionario de notas:\", notas_copia)"
   ]
  },
  {
   "cell_type": "markdown",
   "metadata": {},
   "source": [
    "9. Mostrar los valores del diccionario de notas."
   ]
  },
  {
   "cell_type": "code",
   "execution_count": 25,
   "metadata": {},
   "outputs": [
    {
     "name": "stdout",
     "output_type": "stream",
     "text": [
      "Valores del diccionario de notas: dict_values([8, 9, 8])\n"
     ]
    }
   ],
   "source": [
    "print(\"Valores del diccionario de notas:\", notas.values())"
   ]
  },
  {
   "cell_type": "markdown",
   "metadata": {},
   "source": [
    "10. Mostrar la longitud del diccionario de notas."
   ]
  },
  {
   "cell_type": "code",
   "execution_count": 26,
   "metadata": {},
   "outputs": [
    {
     "name": "stdout",
     "output_type": "stream",
     "text": [
      "Longitud del diccionario de notas: 3\n"
     ]
    }
   ],
   "source": [
    "print(\"Longitud del diccionario de notas:\", len(notas))"
   ]
  }
 ],
 "metadata": {
  "kernelspec": {
   "display_name": "Python 3",
   "language": "python",
   "name": "python3"
  },
  "language_info": {
   "codemirror_mode": {
    "name": "ipython",
    "version": 3
   },
   "file_extension": ".py",
   "mimetype": "text/x-python",
   "name": "python",
   "nbconvert_exporter": "python",
   "pygments_lexer": "ipython3",
   "version": "3.12.2"
  }
 },
 "nbformat": 4,
 "nbformat_minor": 2
}
