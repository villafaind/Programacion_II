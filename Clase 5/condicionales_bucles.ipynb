{
 "cells": [
  {
   "cell_type": "markdown",
   "metadata": {},
   "source": [
    "<strong>ESTRUCTURAS DE CONTROL A TRAVÉS DE BUCLES</strong>\n",
    "\n",
    "- Ciclo For in\n",
    "- Ciclo While\n",
    "- Break\n",
    "- Continue\n",
    "\n",
    "Los bucles son estructuras fundamentales en programación que permiten ejecutar un bloque de código de manera repetitiva hasta que se cumpla una condición específica. Estas estructuras son esenciales para automatizar tareas repetitivas y controlar el flujo de un programa. "
   ]
  },
  {
   "cell_type": "code",
   "execution_count": 1,
   "metadata": {},
   "outputs": [
    {
     "name": "stdout",
     "output_type": "stream",
     "text": [
      "rojo\n",
      "amarillo\n",
      "violeta\n",
      "El color ahora es igual a rojo\n",
      "El color ahora es igual a gris\n",
      "El color ahora es igual a amarillo\n",
      "El color ahora es igual a verde\n",
      "El color ahora es igual a marrón\n",
      "El color ahora es igual a violeta\n",
      "El color ahora es igual a azul\n"
     ]
    }
   ],
   "source": [
    "# iterar lista con for\n",
    "\n",
    "colores = ['rojo', 'amarillo', 'verde', 'marrón', 'violeta']\n",
    "print(colores[0])\n",
    "print(colores[1])\n",
    "print(colores[4])\n",
    "colores.append(\"azul\")\n",
    "colores.insert(1,\"gris\")\n",
    "\n",
    "for p in colores:\n",
    "    print(f\"El color ahora es igual a {p}\")"
   ]
  },
  {
   "cell_type": "code",
   "execution_count": null,
   "metadata": {},
   "outputs": [],
   "source": [
    "# función range()\n",
    "\n",
    "for numero in range(0,200,5):\n",
    "    print(numero)\n",
    "    \n",
    "# estamos pidiendo que recorra de 0 a 200, saltando de a 5"
   ]
  },
  {
   "cell_type": "code",
   "execution_count": 3,
   "metadata": {},
   "outputs": [
    {
     "name": "stdout",
     "output_type": "stream",
     "text": [
      "7\n"
     ]
    }
   ],
   "source": [
    "print(len(colores))\n",
    "\n",
    "# imprimir el numero total de items (de colores = 7)"
   ]
  },
  {
   "cell_type": "code",
   "execution_count": 6,
   "metadata": {},
   "outputs": [
    {
     "name": "stdout",
     "output_type": "stream",
     "text": [
      "El elemento en la posición 0 de mi lista de colores es: rojo\n",
      "El elemento en la posición 1 de mi lista de colores es: gris\n",
      "El elemento en la posición 2 de mi lista de colores es: amarillo\n"
     ]
    }
   ],
   "source": [
    "for item in range(0,3):\n",
    "    print(f\"El elemento en la posición {item} de mi lista de colores es: {colores[item]}\")\n",
    "    \n",
    "# imprimir los colores de 0 a 3"
   ]
  },
  {
   "cell_type": "code",
   "execution_count": 5,
   "metadata": {},
   "outputs": [
    {
     "name": "stdout",
     "output_type": "stream",
     "text": [
      "['rojo', 'gris', 'amarillo', 'verde', 'marrón', 'violeta', 'azul']\n"
     ]
    }
   ],
   "source": [
    "print(colores)"
   ]
  },
  {
   "cell_type": "code",
   "execution_count": 7,
   "metadata": {},
   "outputs": [
    {
     "name": "stdout",
     "output_type": "stream",
     "text": [
      "rojo\n",
      "gris\n",
      "amarillo\n",
      "verde\n",
      "marrón\n",
      "violeta\n",
      "azul\n"
     ]
    }
   ],
   "source": [
    "for item in colores:\n",
    "    print(item)    "
   ]
  },
  {
   "cell_type": "code",
   "execution_count": 8,
   "metadata": {},
   "outputs": [
    {
     "name": "stdout",
     "output_type": "stream",
     "text": [
      "(0, 'rojo')\n",
      "(1, 'gris')\n",
      "(2, 'amarillo')\n",
      "(3, 'verde')\n",
      "(4, 'marrón')\n",
      "(5, 'violeta')\n",
      "(6, 'azul')\n"
     ]
    }
   ],
   "source": [
    "# recorrer una lista a través de su índice\n",
    "\n",
    "for color in enumerate(colores):\n",
    "    print(color)"
   ]
  },
  {
   "cell_type": "code",
   "execution_count": 9,
   "metadata": {},
   "outputs": [
    {
     "name": "stdout",
     "output_type": "stream",
     "text": [
      "Diego\n",
      "Villafain\n",
      "33\n",
      "Analista de Datos\n",
      "True\n",
      "['Rock', 'RKT', 'Trap']\n",
      "{'Marca': 'Chevrolet', 'Modelo': 'Onix', 'Anio': 2024}\n"
     ]
    }
   ],
   "source": [
    "# recorrer un diccionario clave valor\n",
    "\n",
    "persona = {\"Nombre\": \"Diego\",\n",
    "           \"Apellido\": \"Villafain\",\n",
    "           \"Edad\": 33,\n",
    "           \"Profesion\": \"Analista de Datos\",\n",
    "           \"Es_Universitario\": True,\n",
    "           \"Música_Favorita\": [\"Rock\", \"RKT\", \"Trap\"],\n",
    "           \"Vehículo\": {\"Marca\": \"Chevrolet\", \"Modelo\": \"Onix\", \"Anio\": 2024}}\n",
    "\n",
    "for b in persona.values():\n",
    "    print(b)\n"
   ]
  },
  {
   "cell_type": "code",
   "execution_count": 10,
   "metadata": {},
   "outputs": [
    {
     "name": "stdout",
     "output_type": "stream",
     "text": [
      "('Nombre', 'Diego')\n",
      "('Apellido', 'Villafain')\n",
      "('Edad', 33)\n",
      "('Profesion', 'Analista de Datos')\n",
      "('Es_Universitario', True)\n",
      "('Música_Favorita', ['Rock', 'RKT', 'Trap'])\n",
      "('Vehículo', {'Marca': 'Chevrolet', 'Modelo': 'Onix', 'Anio': 2024})\n"
     ]
    }
   ],
   "source": [
    "# items\n",
    "\n",
    "persona = {\"Nombre\": \"Diego\",\n",
    "           \"Apellido\": \"Villafain\",\n",
    "           \"Edad\": 33,\n",
    "           \"Profesion\": \"Analista de Datos\",\n",
    "           \"Es_Universitario\": True,\n",
    "           \"Música_Favorita\": [\"Rock\", \"RKT\", \"Trap\"],\n",
    "           \"Vehículo\": {\"Marca\": \"Chevrolet\", \"Modelo\": \"Onix\", \"Anio\": 2024}}\n",
    "\n",
    "for b in persona.items():\n",
    "    print(b)"
   ]
  },
  {
   "cell_type": "code",
   "execution_count": 11,
   "metadata": {},
   "outputs": [
    {
     "name": "stdout",
     "output_type": "stream",
     "text": [
      "Nombre\n",
      "Apellido\n",
      "Edad\n",
      "Profesion\n",
      "Es_Universitario\n",
      "Música_Favorita\n",
      "Vehículo\n"
     ]
    }
   ],
   "source": [
    "# keys\n",
    "\n",
    "persona = {\"Nombre\": \"Diego\",\n",
    "           \"Apellido\": \"Villafain\",\n",
    "           \"Edad\": 33,\n",
    "           \"Profesion\": \"Analista de Datos\",\n",
    "           \"Es_Universitario\": True,\n",
    "           \"Música_Favorita\": [\"Rock\", \"RKT\", \"Trap\"],\n",
    "           \"Vehículo\": {\"Marca\": \"Chevrolet\", \"Modelo\": \"Onix\", \"Anio\": 2024}}\n",
    "\n",
    "for b in persona.keys():\n",
    "    print(b)"
   ]
  },
  {
   "cell_type": "code",
   "execution_count": 12,
   "metadata": {},
   "outputs": [
    {
     "name": "stdout",
     "output_type": "stream",
     "text": [
      "Nombre\n",
      "Apellido\n",
      "Edad\n",
      "Profesion\n",
      "Es_Universitario\n",
      "Música_Favorita\n",
      "Vehículo\n"
     ]
    }
   ],
   "source": [
    "for key in persona:\n",
    "    print(key)"
   ]
  },
  {
   "cell_type": "code",
   "execution_count": 13,
   "metadata": {},
   "outputs": [
    {
     "name": "stdout",
     "output_type": "stream",
     "text": [
      "{'Marca': 'Chevrolet', 'Modelo': 'Onix', 'Anio': 2024}\n"
     ]
    }
   ],
   "source": [
    "print(persona[\"Vehículo\"])"
   ]
  }
 ],
 "metadata": {
  "kernelspec": {
   "display_name": "Python 3",
   "language": "python",
   "name": "python3"
  },
  "language_info": {
   "codemirror_mode": {
    "name": "ipython",
    "version": 3
   },
   "file_extension": ".py",
   "mimetype": "text/x-python",
   "name": "python",
   "nbconvert_exporter": "python",
   "pygments_lexer": "ipython3",
   "version": "3.11.5"
  }
 },
 "nbformat": 4,
 "nbformat_minor": 2
}
