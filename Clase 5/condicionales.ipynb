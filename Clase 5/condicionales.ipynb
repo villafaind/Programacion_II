{
 "cells": [
  {
   "cell_type": "markdown",
   "metadata": {},
   "source": [
    "<strong>ESTRUCTURAS DE CONTROL CONDICIONALES</strong>\n",
    "\n",
    "- if \n",
    "- elif\n",
    "- else\n",
    "\n",
    "\n",
    "Los condicionales son estructuras fundamentales en programación que permiten tomar decisiones y ejecutar\n",
    "diferentes acciones en función de una condición evaluada. Estas estucturas son clave para crear lógica y\n",
    "controlar el flujo de un programa."
   ]
  },
  {
   "cell_type": "code",
   "execution_count": null,
   "metadata": {},
   "outputs": [],
   "source": [
    "# ejemplo utilizando if else\n",
    "\n",
    "if condicion:\n",
    "    print('Esto es lo que hay que hacer')\n",
    "else:\n",
    "    print('Esto es lo que hay que hacer')"
   ]
  },
  {
   "cell_type": "code",
   "execution_count": 1,
   "metadata": {},
   "outputs": [],
   "source": [
    "edad = 15\n",
    "if edad >=18:\n",
    "    print('puede acceder por ser mayor de edad')"
   ]
  },
  {
   "cell_type": "code",
   "execution_count": 2,
   "metadata": {},
   "outputs": [
    {
     "name": "stdout",
     "output_type": "stream",
     "text": [
      "no es mayor de edad\n"
     ]
    }
   ],
   "source": [
    "edad = 15\n",
    "if edad >= 18:\n",
    "    print('puede acceder por ser mayor de edad')\n",
    "else:\n",
    "    print('no es mayor de edad')"
   ]
  },
  {
   "cell_type": "code",
   "execution_count": 2,
   "metadata": {},
   "outputs": [
    {
     "name": "stdout",
     "output_type": "stream",
     "text": [
      "No podes acceder por ser menor de edad\n",
      "Este mensaje se muestra siemppre porque está fuera del bloque condicional\n"
     ]
    }
   ],
   "source": [
    "edad = 14\n",
    "if edad >= 18:\n",
    "    print(\"Puede acceder por ser mayor de edad\")\n",
    "    \n",
    "else:\n",
    "    print(\"No podes acceder por ser menor de edad\")\n",
    "print(\"Este mensaje se muestra siemppre porque está fuera del bloque condicional\")"
   ]
  },
  {
   "cell_type": "code",
   "execution_count": null,
   "metadata": {},
   "outputs": [],
   "source": [
    "#comparador de comparacion\n",
    "\n",
    "# > >= < <= !="
   ]
  },
  {
   "cell_type": "code",
   "execution_count": 3,
   "metadata": {},
   "outputs": [
    {
     "data": {
      "text/plain": [
       "True"
      ]
     },
     "execution_count": 3,
     "metadata": {},
     "output_type": "execute_result"
    }
   ],
   "source": [
    "6 <= 6"
   ]
  },
  {
   "cell_type": "code",
   "execution_count": 4,
   "metadata": {},
   "outputs": [
    {
     "name": "stdout",
     "output_type": "stream",
     "text": [
      "La letra a no se encuentra en diego\n"
     ]
    }
   ],
   "source": [
    "palabra = \"diego\"\n",
    "if \"a\" in palabra:\n",
    "    print(\"La letra a se encuentra en\",palabra)\n",
    "else:\n",
    "    print(\"La letra a no se encuentra en\",palabra)\n",
    "    "
   ]
  },
  {
   "cell_type": "code",
   "execution_count": 5,
   "metadata": {},
   "outputs": [
    {
     "name": "stdout",
     "output_type": "stream",
     "text": [
      "Puede ingresar al sistema\n"
     ]
    }
   ],
   "source": [
    "contraseña_BD = \"contraseña123\"\n",
    "contraseña_ingresada = \"contraseña123\"\n",
    "\n",
    "if contraseña_BD == contraseña_ingresada:\n",
    "    print(\"Puede ingresar al sistema\")\n",
    "else:\n",
    "    print(\"Contraseña incorrecta, intente nuevamente...\")"
   ]
  },
  {
   "cell_type": "code",
   "execution_count": 6,
   "metadata": {},
   "outputs": [
    {
     "name": "stdout",
     "output_type": "stream",
     "text": [
      "El ingreso mensual es inferior a la canasta básica\n"
     ]
    }
   ],
   "source": [
    "ingreso_mensual = 80000\n",
    "if ingreso_mensual <= 203000:\n",
    "    print(\"El ingreso mensual es inferior a la canasta básica\")\n",
    "elif ingreso_mensual >203000 and ingreso_mensual < 700000:\n",
    "    print(\"El ingreso mensual es equivalente a clase media baja\")\n",
    "elif ingreso_mensual  >= 700000 and ingreso_mensual < 1200000:\n",
    "    print(\"El ingreso mensual es de clase media alta\")\n",
    "elif ingreso_mensual  >= 1200000 and ingreso_mensual < 2500000:\n",
    "    print(\"El ingreso mensual es de clase media alta y permite algo de ahorro\")\n",
    "else:\n",
    "    print(\"El ingreso mensual es de clase alta y te permite vivir bien y viajar\")   \n"
   ]
  },
  {
   "cell_type": "code",
   "execution_count": null,
   "metadata": {},
   "outputs": [],
   "source": [
    "# para pedir ingreso de numero por teclado usamos el input:\n",
    "\n",
    "numero = int(input())"
   ]
  },
  {
   "cell_type": "markdown",
   "metadata": {},
   "source": [
    "1. Ingresar dos números por teclado <strong>a</strong> y <strong>b</strong>. Si <strong>a</strong> es mayor que <strong>b</strong>, imprimir 'Hola Politécnico Malvinas':"
   ]
  },
  {
   "cell_type": "code",
   "execution_count": 7,
   "metadata": {},
   "outputs": [
    {
     "name": "stdout",
     "output_type": "stream",
     "text": [
      "Hola Politécnico Malvinas\n"
     ]
    }
   ],
   "source": [
    "a = int(input(\"Ingrese el primer número: \"))\n",
    "b = int(input(\"Ingrese el segundo número: \"))\n",
    "\n",
    "if a > b:\n",
    "    print(\"Hola Politécnico Malvinas\")"
   ]
  },
  {
   "cell_type": "markdown",
   "metadata": {},
   "source": [
    "2. Ingresar dos números por teclado <strong>a</strong> y <strong>b</strong>. Si <strong>a</strong> no es igual a <strong>b</strong>, imprimir 'Hola Politécnico Malvinas':"
   ]
  },
  {
   "cell_type": "code",
   "execution_count": null,
   "metadata": {},
   "outputs": [],
   "source": [
    "a = int(input(\"Ingrese el primer número: \"))\n",
    "b = int(input(\"Ingrese el segundo número: \"))\n",
    "\n",
    "if a != b:\n",
    "    print(\"Hola Politécnico Malvinas\")"
   ]
  },
  {
   "cell_type": "markdown",
   "metadata": {},
   "source": [
    "3. Ingresar dos números por teclado <strong>a</strong> y <strong>b</strong>. Si <strong>a</strong> es igual a <strong>b</strong>, imprimir 'Son iguales'. Sino, imprimir 'Son distintos'"
   ]
  },
  {
   "cell_type": "code",
   "execution_count": 13,
   "metadata": {},
   "outputs": [
    {
     "name": "stdout",
     "output_type": "stream",
     "text": [
      "Los números son iguales\n"
     ]
    }
   ],
   "source": [
    "a = int(input(\"Ingrese el primer número:\"))\n",
    "b = int(input(\"Ingrese el segundo número:\"))\n",
    "if a == b:\n",
    "    print(\"Los números son iguales\")\n",
    "else:\n",
    "    print(\"Los números son distintos\")"
   ]
  },
  {
   "cell_type": "code",
   "execution_count": 14,
   "metadata": {},
   "outputs": [
    {
     "name": "stdout",
     "output_type": "stream",
     "text": [
      "Son distintos\n"
     ]
    }
   ],
   "source": [
    "num1 = int(input(\"Ingrese el primer número:\"))\n",
    "num2 = int(input(\"Ingrese el segundo número:\"))\n",
    "a = \"Son iguales\" if num1 == num2 else \"Son distintos\"\n",
    "print(a)"
   ]
  },
  {
   "cell_type": "markdown",
   "metadata": {},
   "source": [
    "4. Ingresar dos números por teclado <strong>a</strong> y <strong>b</strong>. Si <strong>a</strong> es igual a <strong>b</strong>, imprimir: 1. Si <strong>a</strong> es mayor que <strong>b</strong>, imprimir: 2. Sino, imprimir: 3"
   ]
  },
  {
   "cell_type": "code",
   "execution_count": 16,
   "metadata": {},
   "outputs": [
    {
     "name": "stdout",
     "output_type": "stream",
     "text": [
      "2\n"
     ]
    }
   ],
   "source": [
    "a = int(input(\"Ingrese el primer número:\"))\n",
    "b = int(input(\"Ingrese el segundo número:\"))\n",
    "if a == b:\n",
    "    print(1)\n",
    "elif a > b:\n",
    "    print(2)\n",
    "else:\n",
    "    print(3)"
   ]
  },
  {
   "cell_type": "markdown",
   "metadata": {},
   "source": [
    "5. Ingrese cuatro números por teclado <strong>a</strong>, <strong>b</strong>, <strong>c</strong> y <strong>d</strong>. Si <strong>a</strong> es igual a <strong>b</strong> y <strong>c</strong> es igual a <strong>d</strong>, imprimir: \"Hola Politécnico Malvinas\""
   ]
  },
  {
   "cell_type": "code",
   "execution_count": 15,
   "metadata": {},
   "outputs": [
    {
     "name": "stdout",
     "output_type": "stream",
     "text": [
      "Hola Politécnico Malvinas\n"
     ]
    }
   ],
   "source": [
    "a = int(input(\"Ingrese el primer número:\"))\n",
    "b = int(input(\"Ingrese el segundo número:\"))\n",
    "c = int(input(\"Ingrese el tercer número:\"))\n",
    "d = int(input(\"Ingrese el cuarto número:\"))\n",
    "\n",
    "if (a == b) or (c == d):\n",
    "    print(\"Hola Politécnico Malvinas\")"
   ]
  },
  {
   "cell_type": "markdown",
   "metadata": {},
   "source": [
    "6. Ingresar un número por teclado y mostrar por pantalla si es par o impar"
   ]
  },
  {
   "cell_type": "code",
   "execution_count": 18,
   "metadata": {},
   "outputs": [
    {
     "name": "stdout",
     "output_type": "stream",
     "text": [
      "El número es impar\n"
     ]
    }
   ],
   "source": [
    "num1 = int(input(\"Ingrese un número:\"))\n",
    "if num1 % 2 == 0:\n",
    "    print(\"El número es par\")\n",
    "else:\n",
    "    print(\"El número es impar\")"
   ]
  },
  {
   "cell_type": "markdown",
   "metadata": {},
   "source": [
    "7. Ingresar por teclado tres números y mostrar por pantalla el mayor de los 3"
   ]
  },
  {
   "cell_type": "code",
   "execution_count": 19,
   "metadata": {},
   "outputs": [
    {
     "name": "stdout",
     "output_type": "stream",
     "text": [
      "103\n"
     ]
    }
   ],
   "source": [
    "num1 = int(input(\"Ingrese el primer número:\"))\n",
    "num2 = int(input(\"Ingrese el segundo número:\"))\n",
    "num3 = int(input(\"Ingrese el tercer número:\"))\n",
    "\n",
    "if num1 > num2 and num1 > num3:\n",
    "    print(num1)\n",
    "elif num2 > num1 and num2 > num3:\n",
    "    print(num2)\n",
    "else:\n",
    "    print(num3)"
   ]
  },
  {
   "cell_type": "markdown",
   "metadata": {},
   "source": [
    "8. Ingresar por teclado un nombre, si la variable 'nombre' no es nula, mostrar por pantalla 'Bienvenido '+ nombre. Sino mostrar 'Bienvenido Anonimo'"
   ]
  },
  {
   "cell_type": "code",
   "execution_count": 22,
   "metadata": {},
   "outputs": [
    {
     "name": "stdout",
     "output_type": "stream",
     "text": [
      "Bienvenido Anónimo\n"
     ]
    }
   ],
   "source": [
    "nombre = input(\"Ingrese su nombre:\")\n",
    "if nombre == \"\":\n",
    "    print(\"Bienvenido Anónimo\")\n",
    "else:\n",
    "    print(\"Bienvenido\", nombre)"
   ]
  },
  {
   "cell_type": "code",
   "execution_count": 24,
   "metadata": {},
   "outputs": [
    {
     "name": "stdout",
     "output_type": "stream",
     "text": [
      "Bienvenido Diego\n",
      "Bienvenidos a Todos\n"
     ]
    }
   ],
   "source": [
    "nombre = input(\"Ingrese su nombre:\")\n",
    "if len(nombre) > 0:\n",
    "    print(\"Bienvenido\", nombre)\n",
    "else:\n",
    "    print(\"Bienvenido Anónimo\")\n",
    "print(\"Bienvenidos a Todos\")"
   ]
  }
 ],
 "metadata": {
  "kernelspec": {
   "display_name": "Python 3",
   "language": "python",
   "name": "python3"
  },
  "language_info": {
   "codemirror_mode": {
    "name": "ipython",
    "version": 3
   },
   "file_extension": ".py",
   "mimetype": "text/x-python",
   "name": "python",
   "nbconvert_exporter": "python",
   "pygments_lexer": "ipython3",
   "version": "3.11.5"
  }
 },
 "nbformat": 4,
 "nbformat_minor": 2
}
