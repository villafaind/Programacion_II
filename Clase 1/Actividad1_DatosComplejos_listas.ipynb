{
 "cells": [
  {
   "cell_type": "code",
   "execution_count": 1,
   "metadata": {},
   "outputs": [],
   "source": [
    "# 1.Crear una lista que contenga nombres de provincias Argentinas, que contenga más de 5 elementos e imprimir por pantalla"
   ]
  },
  {
   "cell_type": "code",
   "execution_count": 2,
   "metadata": {},
   "outputs": [
    {
     "name": "stdout",
     "output_type": "stream",
     "text": [
      "['Tierra del Fuego', 'Santa Cruz', 'Chubut', 'Río Negro', 'Neuquen', 'Buenos Aires']\n"
     ]
    }
   ],
   "source": [
    "provincia =[\"Tierra del Fuego\", \"Santa Cruz\",\"Chubut\",\"Río Negro\",\"Neuquen\",\"Buenos Aires\"]\n",
    "print(provincia)"
   ]
  },
  {
   "cell_type": "code",
   "execution_count": 3,
   "metadata": {},
   "outputs": [],
   "source": [
    "# 2.Imprimir por pantalla el tercer elemento de la lista"
   ]
  },
  {
   "cell_type": "code",
   "execution_count": 4,
   "metadata": {},
   "outputs": [
    {
     "name": "stdout",
     "output_type": "stream",
     "text": [
      "En la lista de provincias, el tercer elemento es:Chubut\n"
     ]
    }
   ],
   "source": [
    "print(f\"En la lista de provincias, el tercer elemento es:{provincia[2]}\")"
   ]
  },
  {
   "cell_type": "code",
   "execution_count": 5,
   "metadata": {},
   "outputs": [],
   "source": [
    "# 3.Imprimir por pantalla del segundo al cuarto elemento"
   ]
  },
  {
   "cell_type": "code",
   "execution_count": 6,
   "metadata": {},
   "outputs": [
    {
     "name": "stdout",
     "output_type": "stream",
     "text": [
      "['Río Negro', 'Neuquen', 'Buenos Aires']\n"
     ]
    }
   ],
   "source": [
    "print(provincia[3:])"
   ]
  },
  {
   "cell_type": "code",
   "execution_count": 7,
   "metadata": {},
   "outputs": [],
   "source": [
    "# 4.Mostrar el tipo de dato de la lista"
   ]
  },
  {
   "cell_type": "code",
   "execution_count": 8,
   "metadata": {},
   "outputs": [
    {
     "name": "stdout",
     "output_type": "stream",
     "text": [
      "<class 'list'>\n"
     ]
    }
   ],
   "source": [
    "print(type(provincia))"
   ]
  },
  {
   "cell_type": "code",
   "execution_count": 9,
   "metadata": {},
   "outputs": [],
   "source": [
    "# 5.Mostrar los primeros 4 elementos de la lista"
   ]
  },
  {
   "cell_type": "code",
   "execution_count": 10,
   "metadata": {},
   "outputs": [
    {
     "name": "stdout",
     "output_type": "stream",
     "text": [
      "['Tierra del Fuego', 'Santa Cruz', 'Chubut', 'Río Negro']\n"
     ]
    }
   ],
   "source": [
    "print(provincia[:4])"
   ]
  },
  {
   "cell_type": "code",
   "execution_count": 11,
   "metadata": {},
   "outputs": [],
   "source": [
    "# 6.Agregar una provincia más a la lista que ya exista y otra que no."
   ]
  },
  {
   "cell_type": "code",
   "execution_count": 12,
   "metadata": {},
   "outputs": [],
   "source": [
    "provincia.append(\"Tierra del Fuego\")\n",
    "provincia.append(\"Santa Fe\")"
   ]
  },
  {
   "cell_type": "code",
   "execution_count": 13,
   "metadata": {},
   "outputs": [
    {
     "name": "stdout",
     "output_type": "stream",
     "text": [
      "['Tierra del Fuego', 'Santa Cruz', 'Chubut', 'Río Negro', 'Neuquen', 'Buenos Aires', 'Tierra del Fuego', 'Santa Fe']\n"
     ]
    }
   ],
   "source": [
    "print(provincia)"
   ]
  },
  {
   "cell_type": "code",
   "execution_count": 14,
   "metadata": {},
   "outputs": [],
   "source": [
    "# 7.Agregar una provincia, pero en la cuarta posición."
   ]
  },
  {
   "cell_type": "code",
   "execution_count": 15,
   "metadata": {},
   "outputs": [],
   "source": [
    "provincia.insert(3,\"La Rioja\")"
   ]
  },
  {
   "cell_type": "code",
   "execution_count": 16,
   "metadata": {},
   "outputs": [
    {
     "name": "stdout",
     "output_type": "stream",
     "text": [
      "['Tierra del Fuego', 'Santa Cruz', 'Chubut', 'La Rioja', 'Río Negro', 'Neuquen', 'Buenos Aires', 'Tierra del Fuego', 'Santa Fe']\n"
     ]
    }
   ],
   "source": [
    "print(provincia)"
   ]
  },
  {
   "cell_type": "code",
   "execution_count": 17,
   "metadata": {},
   "outputs": [],
   "source": [
    "# 8.Extender otra lista a la ya creada."
   ]
  },
  {
   "cell_type": "code",
   "execution_count": 18,
   "metadata": {},
   "outputs": [],
   "source": [
    "otras =[\"Tucuman\",\"Santiago del Estero\",\"Mendoza\"] "
   ]
  },
  {
   "cell_type": "code",
   "execution_count": 20,
   "metadata": {},
   "outputs": [],
   "source": [
    "provincia += otras"
   ]
  },
  {
   "cell_type": "code",
   "execution_count": 21,
   "metadata": {},
   "outputs": [
    {
     "name": "stdout",
     "output_type": "stream",
     "text": [
      "['Tierra del Fuego', 'Santa Cruz', 'Chubut', 'La Rioja', 'Río Negro', 'Neuquen', 'Buenos Aires', 'Tierra del Fuego', 'Santa Fe', 'Tucuman', 'Santiago del Estero', 'Mendoza', 'Tucuman', 'Santiago del Estero', 'Mendoza']\n"
     ]
    }
   ],
   "source": [
    "print(provincia)"
   ]
  },
  {
   "cell_type": "code",
   "execution_count": 22,
   "metadata": {},
   "outputs": [],
   "source": [
    "provincia.extend(otras)"
   ]
  },
  {
   "cell_type": "code",
   "execution_count": 23,
   "metadata": {},
   "outputs": [
    {
     "name": "stdout",
     "output_type": "stream",
     "text": [
      "['Tierra del Fuego', 'Santa Cruz', 'Chubut', 'La Rioja', 'Río Negro', 'Neuquen', 'Buenos Aires', 'Tierra del Fuego', 'Santa Fe', 'Tucuman', 'Santiago del Estero', 'Mendoza', 'Tucuman', 'Santiago del Estero', 'Mendoza', 'Tucuman', 'Santiago del Estero', 'Mendoza']\n"
     ]
    }
   ],
   "source": [
    "print(provincia)"
   ]
  },
  {
   "cell_type": "code",
   "execution_count": 24,
   "metadata": {},
   "outputs": [],
   "source": [
    "# 9.Eliminar un elemento de la lista."
   ]
  },
  {
   "cell_type": "code",
   "execution_count": 25,
   "metadata": {},
   "outputs": [
    {
     "data": {
      "text/plain": [
       "'Mendoza'"
      ]
     },
     "execution_count": 25,
     "metadata": {},
     "output_type": "execute_result"
    }
   ],
   "source": [
    "provincia.pop()"
   ]
  },
  {
   "cell_type": "code",
   "execution_count": 26,
   "metadata": {},
   "outputs": [
    {
     "name": "stdout",
     "output_type": "stream",
     "text": [
      "['Tierra del Fuego', 'Santa Cruz', 'Chubut', 'La Rioja', 'Río Negro', 'Neuquen', 'Buenos Aires', 'Tierra del Fuego', 'Santa Fe', 'Tucuman', 'Santiago del Estero', 'Mendoza', 'Tucuman', 'Santiago del Estero', 'Mendoza', 'Tucuman', 'Santiago del Estero']\n"
     ]
    }
   ],
   "source": [
    "print(provincia)"
   ]
  },
  {
   "cell_type": "code",
   "execution_count": 27,
   "metadata": {},
   "outputs": [
    {
     "data": {
      "text/plain": [
       "'Tierra del Fuego'"
      ]
     },
     "execution_count": 27,
     "metadata": {},
     "output_type": "execute_result"
    }
   ],
   "source": [
    "provincia.pop(0)"
   ]
  },
  {
   "cell_type": "code",
   "execution_count": 28,
   "metadata": {},
   "outputs": [
    {
     "name": "stdout",
     "output_type": "stream",
     "text": [
      "['Santa Cruz', 'Chubut', 'La Rioja', 'Río Negro', 'Neuquen', 'Buenos Aires', 'Tierra del Fuego', 'Santa Fe', 'Tucuman', 'Santiago del Estero', 'Mendoza', 'Tucuman', 'Santiago del Estero', 'Mendoza', 'Tucuman', 'Santiago del Estero']\n"
     ]
    }
   ],
   "source": [
    "\n",
    "print(provincia)"
   ]
  },
  {
   "cell_type": "code",
   "execution_count": 29,
   "metadata": {},
   "outputs": [],
   "source": [
    "# 10.Extraer el último elemento de la lista, guardarlo en una variable e imprimirlo."
   ]
  },
  {
   "cell_type": "code",
   "execution_count": 30,
   "metadata": {},
   "outputs": [],
   "source": [
    "ultima_provincia =provincia[len(provincia)-1]"
   ]
  },
  {
   "cell_type": "code",
   "execution_count": 31,
   "metadata": {},
   "outputs": [
    {
     "name": "stdout",
     "output_type": "stream",
     "text": [
      "La última provincia en la lista de provincias es: Santiago del Estero\n"
     ]
    }
   ],
   "source": [
    "print(\"La última provincia en la lista de provincias es:\", ultima_provincia)"
   ]
  },
  {
   "cell_type": "code",
   "execution_count": 32,
   "metadata": {},
   "outputs": [],
   "source": [
    "ultimo_elemento=provincia.pop()"
   ]
  },
  {
   "cell_type": "code",
   "execution_count": 33,
   "metadata": {},
   "outputs": [
    {
     "name": "stdout",
     "output_type": "stream",
     "text": [
      "Santiago del Estero\n"
     ]
    }
   ],
   "source": [
    "print(ultimo_elemento)"
   ]
  },
  {
   "cell_type": "code",
   "execution_count": 34,
   "metadata": {},
   "outputs": [
    {
     "name": "stdout",
     "output_type": "stream",
     "text": [
      "['Santa Cruz', 'Chubut', 'La Rioja', 'Río Negro', 'Neuquen', 'Buenos Aires', 'Tierra del Fuego', 'Santa Fe', 'Tucuman', 'Santiago del Estero', 'Mendoza', 'Tucuman', 'Santiago del Estero', 'Mendoza', 'Tucuman']\n"
     ]
    }
   ],
   "source": [
    "\n",
    "print(provincia) "
   ]
  },
  {
   "cell_type": "code",
   "execution_count": 35,
   "metadata": {},
   "outputs": [],
   "source": [
    "\n",
    "final =provincia[-1]"
   ]
  },
  {
   "cell_type": "code",
   "execution_count": 36,
   "metadata": {},
   "outputs": [
    {
     "name": "stdout",
     "output_type": "stream",
     "text": [
      "Tucuman\n"
     ]
    }
   ],
   "source": [
    "\n",
    "print(final)"
   ]
  },
  {
   "cell_type": "code",
   "execution_count": 37,
   "metadata": {},
   "outputs": [
    {
     "data": {
      "text/plain": [
       "'Mendoza'"
      ]
     },
     "execution_count": 37,
     "metadata": {},
     "output_type": "execute_result"
    }
   ],
   "source": [
    "\n",
    "provincia[-2]"
   ]
  }
 ],
 "metadata": {
  "kernelspec": {
   "display_name": "Python 3",
   "language": "python",
   "name": "python3"
  },
  "language_info": {
   "codemirror_mode": {
    "name": "ipython",
    "version": 3
   },
   "file_extension": ".py",
   "mimetype": "text/x-python",
   "name": "python",
   "nbconvert_exporter": "python",
   "pygments_lexer": "ipython3",
   "version": "3.11.5"
  }
 },
 "nbformat": 4,
 "nbformat_minor": 2
}
